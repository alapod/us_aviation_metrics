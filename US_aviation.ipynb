{
 "cells": [
  {
   "cell_type": "markdown",
   "metadata": {},
   "source": [
    "### U.S. Aviation data\n",
    "#### source: U.S. Department of Transportation\n",
    "##### https://www.transtats.bts.gov/Data_Elements.aspx"
   ]
  },
  {
   "cell_type": "code",
   "execution_count": 1,
   "metadata": {},
   "outputs": [],
   "source": [
    "import pandas as pd"
   ]
  },
  {
   "cell_type": "code",
   "execution_count": 2,
   "metadata": {},
   "outputs": [],
   "source": [
    "import matplotlib.pyplot as plt"
   ]
  },
  {
   "cell_type": "code",
   "execution_count": 3,
   "metadata": {},
   "outputs": [],
   "source": [
    "def read_data(name):\n",
    "    return pd.DataFrame(pd.read_html(name)[0])"
   ]
  },
  {
   "cell_type": "code",
   "execution_count": 4,
   "metadata": {},
   "outputs": [],
   "source": [
    "def get_yearly_data(df):\n",
    "    return df[df['Month'] == 'TOTAL'].drop('Month', axis=1)"
   ]
  },
  {
   "cell_type": "code",
   "execution_count": 5,
   "metadata": {},
   "outputs": [],
   "source": [
    "def get_monthly_data(df):\n",
    "    return df[df['Month'] != 'TOTAL']"
   ]
  },
  {
   "cell_type": "markdown",
   "metadata": {},
   "source": [
    "### Passengers\n",
    "##### All U.S. Carriers - All Airports"
   ]
  },
  {
   "cell_type": "code",
   "execution_count": 6,
   "metadata": {},
   "outputs": [],
   "source": [
    "passengers = read_data('Passengers_6_15_2022 5 13 26 AM.xls')"
   ]
  },
  {
   "cell_type": "code",
   "execution_count": 7,
   "metadata": {},
   "outputs": [],
   "source": [
    "passengers_monthly = get_monthly_data(passengers)"
   ]
  },
  {
   "cell_type": "code",
   "execution_count": 8,
   "metadata": {},
   "outputs": [],
   "source": [
    "passengers_yearly = get_yearly_data(passengers)"
   ]
  },
  {
   "cell_type": "code",
   "execution_count": 9,
   "metadata": {},
   "outputs": [
    {
     "data": {
      "text/html": [
       "<div>\n",
       "<style scoped>\n",
       "    .dataframe tbody tr th:only-of-type {\n",
       "        vertical-align: middle;\n",
       "    }\n",
       "\n",
       "    .dataframe tbody tr th {\n",
       "        vertical-align: top;\n",
       "    }\n",
       "\n",
       "    .dataframe thead th {\n",
       "        text-align: right;\n",
       "    }\n",
       "</style>\n",
       "<table border=\"1\" class=\"dataframe\">\n",
       "  <thead>\n",
       "    <tr style=\"text-align: right;\">\n",
       "      <th></th>\n",
       "      <th>Year</th>\n",
       "      <th>Month</th>\n",
       "      <th>DOMESTIC</th>\n",
       "      <th>INTERNATIONAL</th>\n",
       "      <th>TOTAL</th>\n",
       "    </tr>\n",
       "  </thead>\n",
       "  <tbody>\n",
       "    <tr>\n",
       "      <th>0</th>\n",
       "      <td>2002</td>\n",
       "      <td>10</td>\n",
       "      <td>48054917</td>\n",
       "      <td>9578435</td>\n",
       "      <td>57633352</td>\n",
       "    </tr>\n",
       "    <tr>\n",
       "      <th>1</th>\n",
       "      <td>2002</td>\n",
       "      <td>11</td>\n",
       "      <td>44850246</td>\n",
       "      <td>9016535</td>\n",
       "      <td>53866781</td>\n",
       "    </tr>\n",
       "    <tr>\n",
       "      <th>2</th>\n",
       "      <td>2002</td>\n",
       "      <td>12</td>\n",
       "      <td>49684353</td>\n",
       "      <td>10038794</td>\n",
       "      <td>59723147</td>\n",
       "    </tr>\n",
       "    <tr>\n",
       "      <th>4</th>\n",
       "      <td>2003</td>\n",
       "      <td>1</td>\n",
       "      <td>43032450</td>\n",
       "      <td>9726436</td>\n",
       "      <td>52758886</td>\n",
       "    </tr>\n",
       "    <tr>\n",
       "      <th>5</th>\n",
       "      <td>2003</td>\n",
       "      <td>2</td>\n",
       "      <td>41166780</td>\n",
       "      <td>8283372</td>\n",
       "      <td>49450152</td>\n",
       "    </tr>\n",
       "  </tbody>\n",
       "</table>\n",
       "</div>"
      ],
      "text/plain": [
       "   Year Month  DOMESTIC  INTERNATIONAL     TOTAL\n",
       "0  2002    10  48054917        9578435  57633352\n",
       "1  2002    11  44850246        9016535  53866781\n",
       "2  2002    12  49684353       10038794  59723147\n",
       "4  2003     1  43032450        9726436  52758886\n",
       "5  2003     2  41166780        8283372  49450152"
      ]
     },
     "execution_count": 9,
     "metadata": {},
     "output_type": "execute_result"
    }
   ],
   "source": [
    "passengers_monthly.head()"
   ]
  },
  {
   "cell_type": "code",
   "execution_count": 60,
   "metadata": {},
   "outputs": [
    {
     "data": {
      "image/png": "[encoded data removed]",
      "text/plain": [
       "<Figure size 432x288 with 1 Axes>"
      ]
     },
     "metadata": {
      "needs_background": "light"
     },
     "output_type": "display_data"
    }
   ],
   "source": [
    "plt.bar(passengers_yearly['Year'], passengers_yearly['TOTAL'], color='#20B2AA')\n",
    "\n",
    "font1 = {'color':'black','size':14}\n",
    "plt.xlabel(\"Year\")\n",
    "plt.ylabel(\"Passengers\")\n",
    "plt.title(\"Total number of\\nPassengers All U.S. Carriers - All Airports\", fontdict=font1, loc='center')\n",
    "plt.savefig('Passengers_total.png')\n",
    "plt.show()"
   ]
  },
  {
   "cell_type": "markdown",
   "metadata": {},
   "source": [
    "Number of passengers dropped in 2008 (recession) then it has been growing steadily until 2020 (COVID)"
   ]
  },
  {
   "cell_type": "code",
   "execution_count": 59,
   "metadata": {},
   "outputs": [
    {
     "data": {
      "image/png": "[encoded data removed]",
      "text/plain": [
       "<Figure size 432x288 with 1 Axes>"
      ]
     },
     "metadata": {
      "needs_background": "light"
     },
     "output_type": "display_data"
    }
   ],
   "source": [
    "plt.bar(passengers_yearly['Year'], passengers_yearly['DOMESTIC'], width=0.5, label='Domestic', color='#B0C4DE', edgecolor='w')\n",
    "plt.bar(passengers_yearly['Year'] + 0.5, passengers_yearly['INTERNATIONAL'], width=0.5, label='International', color='#6667AB')\n",
    "\n",
    "font1 = {'color':'black','size':14}\n",
    "plt.xlabel(\"Year\")\n",
    "plt.ylabel(\"Passengers\")\n",
    "plt.title(\"Passengers All U.S. Carriers - All Airports\", fontdict=font1, loc='center')\n",
    "plt.legend(loc=\"upper left\")\n",
    "plt.savefig('Passengers.png')\n",
    "plt.show()"
   ]
  },
  {
   "cell_type": "markdown",
   "metadata": {},
   "source": [
    "The drop in 2008 was more significant for domestic flights"
   ]
  },
  {
   "cell_type": "markdown",
   "metadata": {},
   "source": [
    "### Flights\n",
    "##### All U.S. Carriers - All Airports "
   ]
  },
  {
   "cell_type": "code",
   "execution_count": 14,
   "metadata": {},
   "outputs": [],
   "source": [
    "flights = read_data('Flights_6_15_2022 5 14 35 AM.xls')"
   ]
  },
  {
   "cell_type": "code",
   "execution_count": 15,
   "metadata": {},
   "outputs": [],
   "source": [
    "flights_yearly = get_yearly_data(flights)"
   ]
  },
  {
   "cell_type": "code",
   "execution_count": 16,
   "metadata": {},
   "outputs": [],
   "source": [
    "flights_monthly = get_monthly_data(flights)"
   ]
  },
  {
   "cell_type": "code",
   "execution_count": 51,
   "metadata": {},
   "outputs": [
    {
     "data": {
      "image/png": "[encoded data removed]",
      "text/plain": [
       "<Figure size 432x288 with 1 Axes>"
      ]
     },
     "metadata": {
      "needs_background": "light"
     },
     "output_type": "display_data"
    }
   ],
   "source": [
    "plt.bar(flights_yearly['Year'] + 0.5, flights_yearly['DOMESTIC'], width = 0.4, label='Domestic', color='#B0C4DE')\n",
    "plt.bar(flights_yearly['Year'], flights_yearly['INTERNATIONAL'], width=0.4, color='#6667AB', label='International')\n",
    "\n",
    "font1 = {'color':'black','size':14}\n",
    "plt.xlabel(\"Year\")\n",
    "plt.ylabel(\"Flights\")\n",
    "plt.title(\"Flights All U.S. Carriers - All Airports\", fontdict=font1, loc='right')\n",
    "plt.legend(loc=\"upper right\")\n",
    "plt.savefig('flights_total.png')\n",
    "plt.show()"
   ]
  },
  {
   "cell_type": "markdown",
   "metadata": {},
   "source": [
    "Number of domestic flights between 2005 and 2015 has been decreasing while the number of international flights remained steady"
   ]
  },
  {
   "cell_type": "markdown",
   "metadata": {},
   "source": [
    "### Available Seat-miles \n",
    "(the number of seats and the distance flown in thousands)\n",
    "##### All U.S. Carriers - All Airports "
   ]
  },
  {
   "cell_type": "code",
   "execution_count": 20,
   "metadata": {},
   "outputs": [],
   "source": [
    "seat_miles = read_data('ASM_6_15_2022 5 15 18 AM.xls')"
   ]
  },
  {
   "cell_type": "code",
   "execution_count": 21,
   "metadata": {},
   "outputs": [],
   "source": [
    "seat_yearly = get_yearly_data(seat_miles)"
   ]
  },
  {
   "cell_type": "code",
   "execution_count": 58,
   "metadata": {},
   "outputs": [
    {
     "data": {
      "image/png": "[encoded data removed]",
      "text/plain": [
       "<Figure size 432x288 with 1 Axes>"
      ]
     },
     "metadata": {
      "needs_background": "light"
     },
     "output_type": "display_data"
    }
   ],
   "source": [
    "plt.bar(seat_yearly['Year'], seat_yearly['TOTAL'], color='#20B2AA')\n",
    "font1 = {'color':'black','size':14}\n",
    "\n",
    "plt.xlabel('Year')\n",
    "plt.ylabel('Available Seat-miles')\n",
    "plt.title('Available seat-miles', fontdict=font1, loc='center')\n",
    "plt.savefig('Seat-miles.png')\n",
    "plt.show()"
   ]
  },
  {
   "cell_type": "markdown",
   "metadata": {},
   "source": [
    "Number of available seat-miles was growing steadily between 2008 and 2020"
   ]
  },
  {
   "cell_type": "markdown",
   "metadata": {},
   "source": [
    "### Load Factor \n",
    "(passenger-miles as a proportion of available seat-miles in percent (%))\n",
    "##### All U.S. Carriers - All Airports "
   ]
  },
  {
   "cell_type": "code",
   "execution_count": 23,
   "metadata": {},
   "outputs": [],
   "source": [
    "load_factor = read_data('LoadFactor_6_15_2022 5 15 36 AM.xls')"
   ]
  },
  {
   "cell_type": "code",
   "execution_count": 24,
   "metadata": {},
   "outputs": [],
   "source": [
    "load_yearly = get_yearly_data(load_factor)"
   ]
  },
  {
   "cell_type": "code",
   "execution_count": 55,
   "metadata": {},
   "outputs": [
    {
     "data": {
      "image/png": "[encoded data removed]",
      "text/plain": [
       "<Figure size 432x288 with 1 Axes>"
      ]
     },
     "metadata": {
      "needs_background": "light"
     },
     "output_type": "display_data"
    }
   ],
   "source": [
    "plt.bar(load_yearly['Year'], load_yearly['TOTAL'], color='#20B2AA')\n",
    "font1 = {'color':'black','size':14}\n",
    "plt.xlabel(\"Year\")\n",
    "plt.ylabel(\"Load Factor, %\")\n",
    "plt.title(\"Load Factor All U.S. Carriers - All Airports\", fontdict=font1, loc='center')\n",
    "plt.savefig('Load_factor.png')\n",
    "plt.show()"
   ]
  },
  {
   "cell_type": "markdown",
   "metadata": {},
   "source": [
    "Load factor was stable and high until 2020"
   ]
  },
  {
   "cell_type": "markdown",
   "metadata": {},
   "source": [
    "### Revenue Passenger-miles \n",
    "(the number of passengers and the distance flown in thousands))\n",
    "##### All U.S. Carriers - All Airports "
   ]
  },
  {
   "cell_type": "code",
   "execution_count": 26,
   "metadata": {},
   "outputs": [],
   "source": [
    "revenue_pass_miles = read_data('RPM_6_15_2022 5 14 56 AM.xls')"
   ]
  },
  {
   "cell_type": "code",
   "execution_count": 27,
   "metadata": {},
   "outputs": [
    {
     "data": {
      "text/html": [
       "<div>\n",
       "<style scoped>\n",
       "    .dataframe tbody tr th:only-of-type {\n",
       "        vertical-align: middle;\n",
       "    }\n",
       "\n",
       "    .dataframe tbody tr th {\n",
       "        vertical-align: top;\n",
       "    }\n",
       "\n",
       "    .dataframe thead th {\n",
       "        text-align: right;\n",
       "    }\n",
       "</style>\n",
       "<table border=\"1\" class=\"dataframe\">\n",
       "  <thead>\n",
       "    <tr style=\"text-align: right;\">\n",
       "      <th></th>\n",
       "      <th>Year</th>\n",
       "      <th>Month</th>\n",
       "      <th>DOMESTIC</th>\n",
       "      <th>INTERNATIONAL</th>\n",
       "      <th>TOTAL</th>\n",
       "    </tr>\n",
       "  </thead>\n",
       "  <tbody>\n",
       "    <tr>\n",
       "      <th>0</th>\n",
       "      <td>2002</td>\n",
       "      <td>10</td>\n",
       "      <td>39181901</td>\n",
       "      <td>31535229</td>\n",
       "      <td>70717130</td>\n",
       "    </tr>\n",
       "    <tr>\n",
       "      <th>1</th>\n",
       "      <td>2002</td>\n",
       "      <td>11</td>\n",
       "      <td>36462419</td>\n",
       "      <td>28497161</td>\n",
       "      <td>64959580</td>\n",
       "    </tr>\n",
       "    <tr>\n",
       "      <th>2</th>\n",
       "      <td>2002</td>\n",
       "      <td>12</td>\n",
       "      <td>41534214</td>\n",
       "      <td>31761398</td>\n",
       "      <td>73295612</td>\n",
       "    </tr>\n",
       "    <tr>\n",
       "      <th>3</th>\n",
       "      <td>2002</td>\n",
       "      <td>TOTAL</td>\n",
       "      <td>471652206</td>\n",
       "      <td>380094028</td>\n",
       "      <td>851746234</td>\n",
       "    </tr>\n",
       "    <tr>\n",
       "      <th>4</th>\n",
       "      <td>2003</td>\n",
       "      <td>1</td>\n",
       "      <td>36358651</td>\n",
       "      <td>31073669</td>\n",
       "      <td>67432321</td>\n",
       "    </tr>\n",
       "  </tbody>\n",
       "</table>\n",
       "</div>"
      ],
      "text/plain": [
       "   Year  Month   DOMESTIC  INTERNATIONAL      TOTAL\n",
       "0  2002     10   39181901       31535229   70717130\n",
       "1  2002     11   36462419       28497161   64959580\n",
       "2  2002     12   41534214       31761398   73295612\n",
       "3  2002  TOTAL  471652206      380094028  851746234\n",
       "4  2003      1   36358651       31073669   67432321"
      ]
     },
     "execution_count": 27,
     "metadata": {},
     "output_type": "execute_result"
    }
   ],
   "source": [
    "revenue_pass_miles.head()"
   ]
  },
  {
   "cell_type": "code",
   "execution_count": 28,
   "metadata": {},
   "outputs": [],
   "source": [
    "revenue_yearly = get_yearly_data(revenue_pass_miles)"
   ]
  },
  {
   "cell_type": "code",
   "execution_count": 56,
   "metadata": {},
   "outputs": [
    {
     "data": {
      "image/png": "[encoded data removed]",
      "text/plain": [
       "<Figure size 432x288 with 1 Axes>"
      ]
     },
     "metadata": {
      "needs_background": "light"
     },
     "output_type": "display_data"
    }
   ],
   "source": [
    "plt.bar(revenue_yearly['Year'], revenue_yearly['TOTAL'], color='#20B2AA')\n",
    "font1 = {'color':'black','size':14}\n",
    "plt.xlabel(\"Year\")\n",
    "plt.ylabel(\"Revenue Passenger-miles\")\n",
    "plt.title(\"Revenue Passenger-miles\\nAll U.S. Carriers - All Airports\", fontdict=font1, loc='center')\n",
    "plt.savefig('Revenue_pas_miles.png')\n",
    "plt.show()"
   ]
  },
  {
   "cell_type": "markdown",
   "metadata": {},
   "source": [
    "Again, steady growth between 2008 and 2020"
   ]
  },
  {
   "cell_type": "markdown",
   "metadata": {},
   "source": [
    "### Operating Revenue\n",
    "##### All U.S. Carriers - All regions"
   ]
  },
  {
   "cell_type": "code",
   "execution_count": 30,
   "metadata": {},
   "outputs": [],
   "source": [
    "op_rev = read_data('Operating_Rev_6_15_2022 5 16 16 AM.xls')"
   ]
  },
  {
   "cell_type": "code",
   "execution_count": 31,
   "metadata": {},
   "outputs": [],
   "source": [
    "rev_yearly = op_rev[op_rev['Quarter']=='TOTAL'].drop('Quarter', axis=1)"
   ]
  },
  {
   "cell_type": "code",
   "execution_count": 45,
   "metadata": {},
   "outputs": [
    {
     "data": {
      "image/png": "[encoded data removed]",
      "text/plain": [
       "<Figure size 432x288 with 1 Axes>"
      ]
     },
     "metadata": {
      "needs_background": "light"
     },
     "output_type": "display_data"
    }
   ],
   "source": [
    "plt.bar(rev_yearly['Year'], rev_yearly['TOTAL'], color='#20B2AA')\n",
    "plt.title('Operating Revenue')\n",
    "plt.xlabel('Year')\n",
    "plt.ylabel('Operating Revenue ($000)')\n",
    "plt.savefig('Operating_revenue.png')\n",
    "plt.show()"
   ]
  },
  {
   "cell_type": "markdown",
   "metadata": {},
   "source": [
    "### Net Income\n",
    "##### All U.S. Carriers - All regions"
   ]
  },
  {
   "cell_type": "code",
   "execution_count": 40,
   "metadata": {},
   "outputs": [],
   "source": [
    "net_income = read_data('Operating_PL_6_15_2022 5 16 05 AM.xls')"
   ]
  },
  {
   "cell_type": "code",
   "execution_count": 41,
   "metadata": {},
   "outputs": [
    {
     "data": {
      "text/html": [
       "<div>\n",
       "<style scoped>\n",
       "    .dataframe tbody tr th:only-of-type {\n",
       "        vertical-align: middle;\n",
       "    }\n",
       "\n",
       "    .dataframe tbody tr th {\n",
       "        vertical-align: top;\n",
       "    }\n",
       "\n",
       "    .dataframe thead th {\n",
       "        text-align: right;\n",
       "    }\n",
       "</style>\n",
       "<table border=\"1\" class=\"dataframe\">\n",
       "  <thead>\n",
       "    <tr style=\"text-align: right;\">\n",
       "      <th></th>\n",
       "      <th>Year</th>\n",
       "      <th>Quarter</th>\n",
       "      <th>DOMESTIC</th>\n",
       "      <th>LATIN AMERICA</th>\n",
       "      <th>ATLANTIC</th>\n",
       "      <th>PACIFIC</th>\n",
       "      <th>INTERNATIONAL</th>\n",
       "      <th>TOTAL</th>\n",
       "    </tr>\n",
       "  </thead>\n",
       "  <tbody>\n",
       "    <tr>\n",
       "      <th>0</th>\n",
       "      <td>2000</td>\n",
       "      <td>1</td>\n",
       "      <td>139162</td>\n",
       "      <td>58927</td>\n",
       "      <td>-68918</td>\n",
       "      <td>-106308</td>\n",
       "      <td>839</td>\n",
       "      <td>23702</td>\n",
       "    </tr>\n",
       "    <tr>\n",
       "      <th>1</th>\n",
       "      <td>2000</td>\n",
       "      <td>2</td>\n",
       "      <td>1570500</td>\n",
       "      <td>-86040</td>\n",
       "      <td>250371</td>\n",
       "      <td>154724</td>\n",
       "      <td>9541</td>\n",
       "      <td>1899096</td>\n",
       "    </tr>\n",
       "    <tr>\n",
       "      <th>2</th>\n",
       "      <td>2000</td>\n",
       "      <td>3</td>\n",
       "      <td>548903</td>\n",
       "      <td>33056</td>\n",
       "      <td>226224</td>\n",
       "      <td>83675</td>\n",
       "      <td>45470</td>\n",
       "      <td>937327</td>\n",
       "    </tr>\n",
       "    <tr>\n",
       "      <th>3</th>\n",
       "      <td>2000</td>\n",
       "      <td>4</td>\n",
       "      <td>-267068</td>\n",
       "      <td>6639</td>\n",
       "      <td>-95916</td>\n",
       "      <td>5533</td>\n",
       "      <td>23388</td>\n",
       "      <td>-327425</td>\n",
       "    </tr>\n",
       "    <tr>\n",
       "      <th>4</th>\n",
       "      <td>2000</td>\n",
       "      <td>TOTAL</td>\n",
       "      <td>1991496</td>\n",
       "      <td>12581</td>\n",
       "      <td>311761</td>\n",
       "      <td>137623</td>\n",
       "      <td>79238</td>\n",
       "      <td>2532700</td>\n",
       "    </tr>\n",
       "    <tr>\n",
       "      <th>...</th>\n",
       "      <td>...</td>\n",
       "      <td>...</td>\n",
       "      <td>...</td>\n",
       "      <td>...</td>\n",
       "      <td>...</td>\n",
       "      <td>...</td>\n",
       "      <td>...</td>\n",
       "      <td>...</td>\n",
       "    </tr>\n",
       "    <tr>\n",
       "      <th>107</th>\n",
       "      <td>2021</td>\n",
       "      <td>3</td>\n",
       "      <td>3638448</td>\n",
       "      <td>160776</td>\n",
       "      <td>-424432</td>\n",
       "      <td>99150</td>\n",
       "      <td>138011</td>\n",
       "      <td>3611953</td>\n",
       "    </tr>\n",
       "    <tr>\n",
       "      <th>108</th>\n",
       "      <td>2021</td>\n",
       "      <td>4</td>\n",
       "      <td>-472342</td>\n",
       "      <td>-347174</td>\n",
       "      <td>-654875</td>\n",
       "      <td>132601</td>\n",
       "      <td>234563</td>\n",
       "      <td>-1107227</td>\n",
       "    </tr>\n",
       "    <tr>\n",
       "      <th>109</th>\n",
       "      <td>2021</td>\n",
       "      <td>TOTAL</td>\n",
       "      <td>4621535</td>\n",
       "      <td>-1879774</td>\n",
       "      <td>-2197715</td>\n",
       "      <td>-184949</td>\n",
       "      <td>781882</td>\n",
       "      <td>1140979</td>\n",
       "    </tr>\n",
       "    <tr>\n",
       "      <th>110</th>\n",
       "      <td>2022</td>\n",
       "      <td>1</td>\n",
       "      <td>-2331375</td>\n",
       "      <td>-774464</td>\n",
       "      <td>-1252818</td>\n",
       "      <td>42428</td>\n",
       "      <td>132284</td>\n",
       "      <td>-4183945</td>\n",
       "    </tr>\n",
       "    <tr>\n",
       "      <th>111</th>\n",
       "      <td>2022</td>\n",
       "      <td>TOTAL</td>\n",
       "      <td>-2331375</td>\n",
       "      <td>-774464</td>\n",
       "      <td>-1252818</td>\n",
       "      <td>42428</td>\n",
       "      <td>132284</td>\n",
       "      <td>-4183945</td>\n",
       "    </tr>\n",
       "  </tbody>\n",
       "</table>\n",
       "<p>112 rows × 8 columns</p>\n",
       "</div>"
      ],
      "text/plain": [
       "     Year Quarter  DOMESTIC  LATIN AMERICA  ATLANTIC  PACIFIC  INTERNATIONAL  \\\n",
       "0    2000       1    139162          58927    -68918  -106308            839   \n",
       "1    2000       2   1570500         -86040    250371   154724           9541   \n",
       "2    2000       3    548903          33056    226224    83675          45470   \n",
       "3    2000       4   -267068           6639    -95916     5533          23388   \n",
       "4    2000   TOTAL   1991496          12581    311761   137623          79238   \n",
       "..    ...     ...       ...            ...       ...      ...            ...   \n",
       "107  2021       3   3638448         160776   -424432    99150         138011   \n",
       "108  2021       4   -472342        -347174   -654875   132601         234563   \n",
       "109  2021   TOTAL   4621535       -1879774  -2197715  -184949         781882   \n",
       "110  2022       1  -2331375        -774464  -1252818    42428         132284   \n",
       "111  2022   TOTAL  -2331375        -774464  -1252818    42428         132284   \n",
       "\n",
       "       TOTAL  \n",
       "0      23702  \n",
       "1    1899096  \n",
       "2     937327  \n",
       "3    -327425  \n",
       "4    2532700  \n",
       "..       ...  \n",
       "107  3611953  \n",
       "108 -1107227  \n",
       "109  1140979  \n",
       "110 -4183945  \n",
       "111 -4183945  \n",
       "\n",
       "[112 rows x 8 columns]"
      ]
     },
     "execution_count": 41,
     "metadata": {},
     "output_type": "execute_result"
    }
   ],
   "source": [
    "net_income"
   ]
  },
  {
   "cell_type": "code",
   "execution_count": 42,
   "metadata": {},
   "outputs": [],
   "source": [
    "net_yearly = net_income[net_income['Quarter']=='TOTAL'].drop('Quarter', axis=1)"
   ]
  },
  {
   "cell_type": "code",
   "execution_count": 179,
   "metadata": {},
   "outputs": [
    {
     "data": {
      "image/png": "[encoded data removed]",
      "text/plain": [
       "<Figure size 432x288 with 1 Axes>"
      ]
     },
     "metadata": {
      "needs_background": "light"
     },
     "output_type": "display_data"
    }
   ],
   "source": [
    "plt.bar(net_yearly['Year'], net_yearly['TOTAL'], color='#20B2AA')\n",
    "plt.show()"
   ]
  },
  {
   "cell_type": "code",
   "execution_count": null,
   "metadata": {},
   "outputs": [],
   "source": []
  }
 ],
 "metadata": {
  "kernelspec": {
   "display_name": "Python 3",
   "language": "python",
   "name": "python3"
  },
  "language_info": {
   "codemirror_mode": {
    "name": "ipython",
    "version": 3
   },
   "file_extension": ".py",
   "mimetype": "text/x-python",
   "name": "python",
   "nbconvert_exporter": "python",
   "pygments_lexer": "ipython3",
   "version": "3.8.3"
  }
 },
 "nbformat": 4,
 "nbformat_minor": 4
}
