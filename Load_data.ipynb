{
 "cells": [
  {
   "cell_type": "code",
   "execution_count": 2,
   "metadata": {},
   "outputs": [],
   "source": [
    "import pandas as pd"
   ]
  },
  {
   "cell_type": "code",
   "execution_count": 3,
   "metadata": {},
   "outputs": [],
   "source": [
    "import matplotlib.pyplot as plt"
   ]
  },
  {
   "cell_type": "code",
   "execution_count": 4,
   "metadata": {},
   "outputs": [],
   "source": [
    "def read_data(name):\n",
    "    return pd.DataFrame(pd.read_html(name)[0])"
   ]
  },
  {
   "cell_type": "code",
   "execution_count": 5,
   "metadata": {},
   "outputs": [],
   "source": [
    "def get_yearly_data(df):\n",
    "    return df[df['Month'] == 'TOTAL'].drop('Month', axis=1)"
   ]
  },
  {
   "cell_type": "code",
   "execution_count": 6,
   "metadata": {},
   "outputs": [],
   "source": [
    "def get_monthly_data(df):\n",
    "    return df[df['Month'] != 'TOTAL']"
   ]
  },
  {
   "cell_type": "markdown",
   "metadata": {},
   "source": [
    "### Passengers\n",
    "##### All U.S. Carriers - All Airports"
   ]
  },
  {
   "cell_type": "code",
   "execution_count": 7,
   "metadata": {},
   "outputs": [],
   "source": [
    "passengers = read_data('Passengers_6_15_2022 5 13 26 AM.xls')"
   ]
  },
  {
   "cell_type": "code",
   "execution_count": 8,
   "metadata": {},
   "outputs": [],
   "source": [
    "passengers_monthly = get_monthly_data(passengers)"
   ]
  },
  {
   "cell_type": "code",
   "execution_count": 9,
   "metadata": {},
   "outputs": [],
   "source": [
    "passengers_yearly = get_yearly_data(passengers)"
   ]
  },
  {
   "cell_type": "code",
   "execution_count": 10,
   "metadata": {},
   "outputs": [
    {
     "data": {
      "text/html": [
       "<div>\n",
       "<style scoped>\n",
       "    .dataframe tbody tr th:only-of-type {\n",
       "        vertical-align: middle;\n",
       "    }\n",
       "\n",
       "    .dataframe tbody tr th {\n",
       "        vertical-align: top;\n",
       "    }\n",
       "\n",
       "    .dataframe thead th {\n",
       "        text-align: right;\n",
       "    }\n",
       "</style>\n",
       "<table border=\"1\" class=\"dataframe\">\n",
       "  <thead>\n",
       "    <tr style=\"text-align: right;\">\n",
       "      <th></th>\n",
       "      <th>Year</th>\n",
       "      <th>DOMESTIC</th>\n",
       "      <th>INTERNATIONAL</th>\n",
       "      <th>TOTAL</th>\n",
       "    </tr>\n",
       "  </thead>\n",
       "  <tbody>\n",
       "    <tr>\n",
       "      <th>3</th>\n",
       "      <td>2002</td>\n",
       "      <td>551899643</td>\n",
       "      <td>118704850</td>\n",
       "      <td>670604493</td>\n",
       "    </tr>\n",
       "    <tr>\n",
       "      <th>16</th>\n",
       "      <td>2003</td>\n",
       "      <td>583293766</td>\n",
       "      <td>117569855</td>\n",
       "      <td>700863621</td>\n",
       "    </tr>\n",
       "  </tbody>\n",
       "</table>\n",
       "</div>"
      ],
      "text/plain": [
       "    Year   DOMESTIC  INTERNATIONAL      TOTAL\n",
       "3   2002  551899643      118704850  670604493\n",
       "16  2003  583293766      117569855  700863621"
      ]
     },
     "execution_count": 10,
     "metadata": {},
     "output_type": "execute_result"
    }
   ],
   "source": [
    "passengers_yearly.head(2)"
   ]
  },
  {
   "cell_type": "code",
   "execution_count": 25,
   "metadata": {},
   "outputs": [
    {
     "data": {
      "text/html": [
       "<div>\n",
       "<style scoped>\n",
       "    .dataframe tbody tr th:only-of-type {\n",
       "        vertical-align: middle;\n",
       "    }\n",
       "\n",
       "    .dataframe tbody tr th {\n",
       "        vertical-align: top;\n",
       "    }\n",
       "\n",
       "    .dataframe thead th {\n",
       "        text-align: right;\n",
       "    }\n",
       "</style>\n",
       "<table border=\"1\" class=\"dataframe\">\n",
       "  <thead>\n",
       "    <tr style=\"text-align: right;\">\n",
       "      <th></th>\n",
       "      <th>Year</th>\n",
       "      <th>Month</th>\n",
       "      <th>DOMESTIC</th>\n",
       "      <th>INTERNATIONAL</th>\n",
       "      <th>TOTAL</th>\n",
       "    </tr>\n",
       "  </thead>\n",
       "  <tbody>\n",
       "    <tr>\n",
       "      <th>0</th>\n",
       "      <td>2002</td>\n",
       "      <td>10</td>\n",
       "      <td>48054917</td>\n",
       "      <td>9578435</td>\n",
       "      <td>57633352</td>\n",
       "    </tr>\n",
       "    <tr>\n",
       "      <th>1</th>\n",
       "      <td>2002</td>\n",
       "      <td>11</td>\n",
       "      <td>44850246</td>\n",
       "      <td>9016535</td>\n",
       "      <td>53866781</td>\n",
       "    </tr>\n",
       "  </tbody>\n",
       "</table>\n",
       "</div>"
      ],
      "text/plain": [
       "   Year Month  DOMESTIC  INTERNATIONAL     TOTAL\n",
       "0  2002    10  48054917        9578435  57633352\n",
       "1  2002    11  44850246        9016535  53866781"
      ]
     },
     "execution_count": 25,
     "metadata": {},
     "output_type": "execute_result"
    }
   ],
   "source": [
    "passengers_monthly.head(2)"
   ]
  },
  {
   "cell_type": "code",
   "execution_count": 45,
   "metadata": {},
   "outputs": [
    {
     "data": {
      "image/png": "[encoded data removed]",
      "text/plain": [
       "<Figure size 432x288 with 1 Axes>"
      ]
     },
     "metadata": {
      "needs_background": "light"
     },
     "output_type": "display_data"
    }
   ],
   "source": [
    "plt.bar(passengers_yearly['Year'], passengers_yearly['TOTAL'])\n",
    "\n",
    "font1 = {'color':'black','size':15}\n",
    "plt.xlabel(\"Year\")\n",
    "plt.ylabel(\"Passengers, bil.\")\n",
    "plt.title(\"Passengers All U.S. Carriers - All Airports\", fontdict=font1, loc='right')\n",
    "\n",
    "plt.show()"
   ]
  },
  {
   "cell_type": "code",
   "execution_count": 44,
   "metadata": {},
   "outputs": [
    {
     "data": {
      "image/png": "[encoded data removed]",
      "text/plain": [
       "<Figure size 432x288 with 1 Axes>"
      ]
     },
     "metadata": {
      "needs_background": "light"
     },
     "output_type": "display_data"
    }
   ],
   "source": [
    "plt.bar(passengers_yearly['Year'], passengers_yearly['DOMESTIC'], width=0.5, label='Domestic')\n",
    "plt.bar(passengers_yearly['Year'] + 0.5, passengers_yearly['INTERNATIONAL'], color='r', width=0.5, label='International')\n",
    "\n",
    "font1 = {'color':'black','size':15}\n",
    "plt.xlabel(\"Year\")\n",
    "plt.ylabel(\"Passengers, 100 mil.\")\n",
    "plt.title(\"Passengers All U.S. Carriers - All Airports\", fontdict=font1, loc='right')\n",
    "plt.legend(loc=\"upper left\")\n",
    "plt.show()"
   ]
  },
  {
   "cell_type": "code",
   "execution_count": 57,
   "metadata": {},
   "outputs": [
    {
     "data": {
      "image/png": "[encoded data removed]",
      "text/plain": [
       "<Figure size 432x288 with 1 Axes>"
      ]
     },
     "metadata": {
      "needs_background": "light"
     },
     "output_type": "display_data"
    }
   ],
   "source": [
    "plt.bar(passengers_monthly['Month'], passengers_monthly['DOMESTIC'])\n",
    "font1 = {'color':'black','size':15}\n",
    "plt.xlabel(\"Month\")\n",
    "plt.ylabel(\"Passengers, 10 mil.\")\n",
    "plt.title(\"Passengers All U.S. Carriers - All Airports\\nDomestic\", fontdict=font1, loc='center')\n",
    "plt.show()"
   ]
  },
  {
   "cell_type": "code",
   "execution_count": 59,
   "metadata": {},
   "outputs": [
    {
     "data": {
      "image/png": "[encoded data removed]",
      "text/plain": [
       "<Figure size 432x288 with 1 Axes>"
      ]
     },
     "metadata": {
      "needs_background": "light"
     },
     "output_type": "display_data"
    }
   ],
   "source": [
    "plt.bar(passengers_monthly['Month'], passengers_monthly['INTERNATIONAL'], color='r')\n",
    "font1 = {'color':'black','size':15}\n",
    "plt.xlabel(\"Month\")\n",
    "plt.ylabel(\"Passengers, 10 mil.\")\n",
    "plt.title(\"Passengers All U.S. Carriers - All Airports\\nInternational\", fontdict=font1, loc='center')\n",
    "plt.show()"
   ]
  },
  {
   "cell_type": "markdown",
   "metadata": {},
   "source": [
    "### Flights\n",
    "##### All U.S. Carriers - All Airports "
   ]
  },
  {
   "cell_type": "code",
   "execution_count": 46,
   "metadata": {},
   "outputs": [],
   "source": [
    "flights = read_data('Flights_6_15_2022 5 14 35 AM.xls')"
   ]
  },
  {
   "cell_type": "code",
   "execution_count": 124,
   "metadata": {},
   "outputs": [],
   "source": [
    "flights_yearly = get_yearly_data(flights)"
   ]
  },
  {
   "cell_type": "code",
   "execution_count": 125,
   "metadata": {},
   "outputs": [],
   "source": [
    "flights_monthly = get_monthly_data(flights)"
   ]
  },
  {
   "cell_type": "code",
   "execution_count": 126,
   "metadata": {},
   "outputs": [
    {
     "data": {
      "text/plain": [
       "<BarContainer object of 21 artists>"
      ]
     },
     "execution_count": 126,
     "metadata": {},
     "output_type": "execute_result"
    },
    {
     "data": {
      "image/png": "[encoded data removed]",
      "text/plain": [
       "<Figure size 432x288 with 1 Axes>"
      ]
     },
     "metadata": {
      "needs_background": "light"
     },
     "output_type": "display_data"
    }
   ],
   "source": [
    "fig = plt.figure()\n",
    "ax = fig.add_axes([0, 0, 1, 1])\n",
    "ax.bar(flights_yearly['Year'] + 0.5, flights_yearly['DOMESTIC'], width = 0.4, color='b')\n",
    "ax.bar(flights_yearly['Year'], flights_yearly['INTERNATIONAL'], width=0.4, color='g')"
   ]
  },
  {
   "cell_type": "code",
   "execution_count": 127,
   "metadata": {},
   "outputs": [
    {
     "data": {
      "text/plain": [
       "<BarContainer object of 234 artists>"
      ]
     },
     "execution_count": 127,
     "metadata": {},
     "output_type": "execute_result"
    },
    {
     "data": {
      "image/png": "[encoded data removed]",
      "text/plain": [
       "<Figure size 432x288 with 1 Axes>"
      ]
     },
     "metadata": {
      "needs_background": "light"
     },
     "output_type": "display_data"
    }
   ],
   "source": [
    "fig = plt.figure()\n",
    "ax = fig.add_axes([0, 0, 1, 1])\n",
    "ax.bar(flights_monthly['Month'], flights_monthly['DOMESTIC'])"
   ]
  },
  {
   "cell_type": "code",
   "execution_count": 128,
   "metadata": {},
   "outputs": [
    {
     "data": {
      "text/plain": [
       "<BarContainer object of 234 artists>"
      ]
     },
     "execution_count": 128,
     "metadata": {},
     "output_type": "execute_result"
    },
    {
     "data": {
      "image/png": "[encoded data removed]",
      "text/plain": [
       "<Figure size 432x288 with 1 Axes>"
      ]
     },
     "metadata": {
      "needs_background": "light"
     },
     "output_type": "display_data"
    }
   ],
   "source": [
    "fig = plt.figure()\n",
    "ax = fig.add_axes([0, 0, 1, 1])\n",
    "ax.bar(flights_monthly['Month'], flights_monthly['INTERNATIONAL'])"
   ]
  },
  {
   "cell_type": "markdown",
   "metadata": {},
   "source": [
    "### Load Factor \n",
    "(passenger-miles as a proportion of available seat-miles in percent (%))\n",
    "##### All U.S. Carriers - All Airports "
   ]
  },
  {
   "cell_type": "code",
   "execution_count": 40,
   "metadata": {},
   "outputs": [],
   "source": [
    "load_factor = read_data('LoadFactor_6_15_2022 5 15 36 AM.xls')"
   ]
  },
  {
   "cell_type": "code",
   "execution_count": 41,
   "metadata": {
    "scrolled": true
   },
   "outputs": [
    {
     "data": {
      "text/html": [
       "<div>\n",
       "<style scoped>\n",
       "    .dataframe tbody tr th:only-of-type {\n",
       "        vertical-align: middle;\n",
       "    }\n",
       "\n",
       "    .dataframe tbody tr th {\n",
       "        vertical-align: top;\n",
       "    }\n",
       "\n",
       "    .dataframe thead th {\n",
       "        text-align: right;\n",
       "    }\n",
       "</style>\n",
       "<table border=\"1\" class=\"dataframe\">\n",
       "  <thead>\n",
       "    <tr style=\"text-align: right;\">\n",
       "      <th></th>\n",
       "      <th>Year</th>\n",
       "      <th>Month</th>\n",
       "      <th>DOMESTIC</th>\n",
       "      <th>INTERNATIONAL</th>\n",
       "      <th>TOTAL</th>\n",
       "    </tr>\n",
       "  </thead>\n",
       "  <tbody>\n",
       "    <tr>\n",
       "      <th>0</th>\n",
       "      <td>2002</td>\n",
       "      <td>10</td>\n",
       "      <td>67.88</td>\n",
       "      <td>72.85</td>\n",
       "      <td>70.01</td>\n",
       "    </tr>\n",
       "    <tr>\n",
       "      <th>1</th>\n",
       "      <td>2002</td>\n",
       "      <td>11</td>\n",
       "      <td>66.62</td>\n",
       "      <td>69.86</td>\n",
       "      <td>68.00</td>\n",
       "    </tr>\n",
       "    <tr>\n",
       "      <th>2</th>\n",
       "      <td>2002</td>\n",
       "      <td>12</td>\n",
       "      <td>72.88</td>\n",
       "      <td>73.42</td>\n",
       "      <td>73.11</td>\n",
       "    </tr>\n",
       "    <tr>\n",
       "      <th>3</th>\n",
       "      <td>2002</td>\n",
       "      <td>TOTAL</td>\n",
       "      <td>70.37</td>\n",
       "      <td>75.60</td>\n",
       "      <td>72.61</td>\n",
       "    </tr>\n",
       "    <tr>\n",
       "      <th>4</th>\n",
       "      <td>2003</td>\n",
       "      <td>1</td>\n",
       "      <td>64.40</td>\n",
       "      <td>72.50</td>\n",
       "      <td>67.90</td>\n",
       "    </tr>\n",
       "  </tbody>\n",
       "</table>\n",
       "</div>"
      ],
      "text/plain": [
       "   Year  Month  DOMESTIC  INTERNATIONAL  TOTAL\n",
       "0  2002     10     67.88          72.85  70.01\n",
       "1  2002     11     66.62          69.86  68.00\n",
       "2  2002     12     72.88          73.42  73.11\n",
       "3  2002  TOTAL     70.37          75.60  72.61\n",
       "4  2003      1     64.40          72.50  67.90"
      ]
     },
     "execution_count": 41,
     "metadata": {},
     "output_type": "execute_result"
    }
   ],
   "source": [
    "load_factor.head()"
   ]
  },
  {
   "cell_type": "code",
   "execution_count": 129,
   "metadata": {},
   "outputs": [],
   "source": [
    "load_yearly = get_yearly_data(load_factor)"
   ]
  },
  {
   "cell_type": "code",
   "execution_count": 130,
   "metadata": {},
   "outputs": [
    {
     "data": {
      "text/plain": [
       "<BarContainer object of 21 artists>"
      ]
     },
     "execution_count": 130,
     "metadata": {},
     "output_type": "execute_result"
    },
    {
     "data": {
      "image/png": "[encoded data removed]",
      "text/plain": [
       "<Figure size 432x288 with 1 Axes>"
      ]
     },
     "metadata": {
      "needs_background": "light"
     },
     "output_type": "display_data"
    }
   ],
   "source": [
    "fig = plt.figure()\n",
    "ax = fig.add_axes([0, 0, 1, 1])\n",
    "ax.bar(load_yearly['Year'], load_yearly['TOTAL'])"
   ]
  },
  {
   "cell_type": "markdown",
   "metadata": {},
   "source": [
    "### Available Seat-miles \n",
    "(the number of seats and the distance flown in thousands)\n",
    "##### All U.S. Carriers - All Airports "
   ]
  },
  {
   "cell_type": "code",
   "execution_count": 42,
   "metadata": {},
   "outputs": [],
   "source": [
    "seat_miles = read_data('ASM_6_15_2022 5 15 18 AM.xls')"
   ]
  },
  {
   "cell_type": "code",
   "execution_count": 43,
   "metadata": {},
   "outputs": [
    {
     "data": {
      "text/html": [
       "<div>\n",
       "<style scoped>\n",
       "    .dataframe tbody tr th:only-of-type {\n",
       "        vertical-align: middle;\n",
       "    }\n",
       "\n",
       "    .dataframe tbody tr th {\n",
       "        vertical-align: top;\n",
       "    }\n",
       "\n",
       "    .dataframe thead th {\n",
       "        text-align: right;\n",
       "    }\n",
       "</style>\n",
       "<table border=\"1\" class=\"dataframe\">\n",
       "  <thead>\n",
       "    <tr style=\"text-align: right;\">\n",
       "      <th></th>\n",
       "      <th>Year</th>\n",
       "      <th>Month</th>\n",
       "      <th>DOMESTIC</th>\n",
       "      <th>INTERNATIONAL</th>\n",
       "      <th>TOTAL</th>\n",
       "    </tr>\n",
       "  </thead>\n",
       "  <tbody>\n",
       "    <tr>\n",
       "      <th>0</th>\n",
       "      <td>2002</td>\n",
       "      <td>10</td>\n",
       "      <td>57725785</td>\n",
       "      <td>43289662</td>\n",
       "      <td>101015447</td>\n",
       "    </tr>\n",
       "    <tr>\n",
       "      <th>1</th>\n",
       "      <td>2002</td>\n",
       "      <td>11</td>\n",
       "      <td>54732773</td>\n",
       "      <td>40791272</td>\n",
       "      <td>95524045</td>\n",
       "    </tr>\n",
       "    <tr>\n",
       "      <th>2</th>\n",
       "      <td>2002</td>\n",
       "      <td>12</td>\n",
       "      <td>56993203</td>\n",
       "      <td>43261782</td>\n",
       "      <td>100254985</td>\n",
       "    </tr>\n",
       "    <tr>\n",
       "      <th>3</th>\n",
       "      <td>2002</td>\n",
       "      <td>TOTAL</td>\n",
       "      <td>670252981</td>\n",
       "      <td>502793940</td>\n",
       "      <td>1173046921</td>\n",
       "    </tr>\n",
       "    <tr>\n",
       "      <th>4</th>\n",
       "      <td>2003</td>\n",
       "      <td>1</td>\n",
       "      <td>56459559</td>\n",
       "      <td>42858438</td>\n",
       "      <td>99317997</td>\n",
       "    </tr>\n",
       "  </tbody>\n",
       "</table>\n",
       "</div>"
      ],
      "text/plain": [
       "   Year  Month   DOMESTIC  INTERNATIONAL       TOTAL\n",
       "0  2002     10   57725785       43289662   101015447\n",
       "1  2002     11   54732773       40791272    95524045\n",
       "2  2002     12   56993203       43261782   100254985\n",
       "3  2002  TOTAL  670252981      502793940  1173046921\n",
       "4  2003      1   56459559       42858438    99317997"
      ]
     },
     "execution_count": 43,
     "metadata": {},
     "output_type": "execute_result"
    }
   ],
   "source": [
    "seat_miles.head()"
   ]
  },
  {
   "cell_type": "code",
   "execution_count": 131,
   "metadata": {},
   "outputs": [],
   "source": [
    "seat_yearly = get_yearly_data(seat_miles)"
   ]
  },
  {
   "cell_type": "code",
   "execution_count": 132,
   "metadata": {},
   "outputs": [
    {
     "data": {
      "text/plain": [
       "<BarContainer object of 21 artists>"
      ]
     },
     "execution_count": 132,
     "metadata": {},
     "output_type": "execute_result"
    },
    {
     "data": {
      "image/png": "[encoded data removed]",
      "text/plain": [
       "<Figure size 432x288 with 1 Axes>"
      ]
     },
     "metadata": {
      "needs_background": "light"
     },
     "output_type": "display_data"
    }
   ],
   "source": [
    "fig = plt.figure()\n",
    "ax = fig.add_axes([0, 0, 1, 1])\n",
    "ax.bar(seat_yearly['Year'], seat_yearly['TOTAL'])"
   ]
  },
  {
   "cell_type": "markdown",
   "metadata": {},
   "source": [
    "### Revenue Passenger-miles \n",
    "(the number of passengers and the distance flown in thousands))\n",
    "##### All U.S. Carriers - All Airports "
   ]
  },
  {
   "cell_type": "code",
   "execution_count": 44,
   "metadata": {},
   "outputs": [],
   "source": [
    "revenue_pass_miles = read_data('RPM_6_15_2022 5 14 56 AM.xls')"
   ]
  },
  {
   "cell_type": "code",
   "execution_count": 45,
   "metadata": {},
   "outputs": [
    {
     "data": {
      "text/html": [
       "<div>\n",
       "<style scoped>\n",
       "    .dataframe tbody tr th:only-of-type {\n",
       "        vertical-align: middle;\n",
       "    }\n",
       "\n",
       "    .dataframe tbody tr th {\n",
       "        vertical-align: top;\n",
       "    }\n",
       "\n",
       "    .dataframe thead th {\n",
       "        text-align: right;\n",
       "    }\n",
       "</style>\n",
       "<table border=\"1\" class=\"dataframe\">\n",
       "  <thead>\n",
       "    <tr style=\"text-align: right;\">\n",
       "      <th></th>\n",
       "      <th>Year</th>\n",
       "      <th>Month</th>\n",
       "      <th>DOMESTIC</th>\n",
       "      <th>INTERNATIONAL</th>\n",
       "      <th>TOTAL</th>\n",
       "    </tr>\n",
       "  </thead>\n",
       "  <tbody>\n",
       "    <tr>\n",
       "      <th>0</th>\n",
       "      <td>2002</td>\n",
       "      <td>10</td>\n",
       "      <td>39181901</td>\n",
       "      <td>31535229</td>\n",
       "      <td>70717130</td>\n",
       "    </tr>\n",
       "    <tr>\n",
       "      <th>1</th>\n",
       "      <td>2002</td>\n",
       "      <td>11</td>\n",
       "      <td>36462419</td>\n",
       "      <td>28497161</td>\n",
       "      <td>64959580</td>\n",
       "    </tr>\n",
       "    <tr>\n",
       "      <th>2</th>\n",
       "      <td>2002</td>\n",
       "      <td>12</td>\n",
       "      <td>41534214</td>\n",
       "      <td>31761398</td>\n",
       "      <td>73295612</td>\n",
       "    </tr>\n",
       "    <tr>\n",
       "      <th>3</th>\n",
       "      <td>2002</td>\n",
       "      <td>TOTAL</td>\n",
       "      <td>471652206</td>\n",
       "      <td>380094028</td>\n",
       "      <td>851746234</td>\n",
       "    </tr>\n",
       "    <tr>\n",
       "      <th>4</th>\n",
       "      <td>2003</td>\n",
       "      <td>1</td>\n",
       "      <td>36358651</td>\n",
       "      <td>31073669</td>\n",
       "      <td>67432321</td>\n",
       "    </tr>\n",
       "  </tbody>\n",
       "</table>\n",
       "</div>"
      ],
      "text/plain": [
       "   Year  Month   DOMESTIC  INTERNATIONAL      TOTAL\n",
       "0  2002     10   39181901       31535229   70717130\n",
       "1  2002     11   36462419       28497161   64959580\n",
       "2  2002     12   41534214       31761398   73295612\n",
       "3  2002  TOTAL  471652206      380094028  851746234\n",
       "4  2003      1   36358651       31073669   67432321"
      ]
     },
     "execution_count": 45,
     "metadata": {},
     "output_type": "execute_result"
    }
   ],
   "source": [
    "revenue_pass_miles.head()"
   ]
  },
  {
   "cell_type": "markdown",
   "metadata": {},
   "source": [
    "### Operating Revenue ($000)\n",
    "##### All U.S. Carriers - All regions"
   ]
  },
  {
   "cell_type": "code",
   "execution_count": 35,
   "metadata": {},
   "outputs": [],
   "source": [
    "op_rev = read_data('Operating_Rev_6_15_2022 5 16 16 AM.xls')"
   ]
  },
  {
   "cell_type": "code",
   "execution_count": 36,
   "metadata": {},
   "outputs": [
    {
     "data": {
      "text/html": [
       "<div>\n",
       "<style scoped>\n",
       "    .dataframe tbody tr th:only-of-type {\n",
       "        vertical-align: middle;\n",
       "    }\n",
       "\n",
       "    .dataframe tbody tr th {\n",
       "        vertical-align: top;\n",
       "    }\n",
       "\n",
       "    .dataframe thead th {\n",
       "        text-align: right;\n",
       "    }\n",
       "</style>\n",
       "<table border=\"1\" class=\"dataframe\">\n",
       "  <thead>\n",
       "    <tr style=\"text-align: right;\">\n",
       "      <th></th>\n",
       "      <th>Year</th>\n",
       "      <th>Quarter</th>\n",
       "      <th>DOMESTIC</th>\n",
       "      <th>LATIN AMERICA</th>\n",
       "      <th>ATLANTIC</th>\n",
       "      <th>PACIFIC</th>\n",
       "      <th>INTERNATIONAL</th>\n",
       "      <th>TOTAL</th>\n",
       "    </tr>\n",
       "  </thead>\n",
       "  <tbody>\n",
       "    <tr>\n",
       "      <th>0</th>\n",
       "      <td>2000</td>\n",
       "      <td>1</td>\n",
       "      <td>23262183</td>\n",
       "      <td>1639679</td>\n",
       "      <td>2690229</td>\n",
       "      <td>2240370</td>\n",
       "      <td>370524</td>\n",
       "      <td>30202987</td>\n",
       "    </tr>\n",
       "    <tr>\n",
       "      <th>1</th>\n",
       "      <td>2000</td>\n",
       "      <td>2</td>\n",
       "      <td>25573067</td>\n",
       "      <td>1626743</td>\n",
       "      <td>3419032</td>\n",
       "      <td>2432840</td>\n",
       "      <td>390007</td>\n",
       "      <td>33441689</td>\n",
       "    </tr>\n",
       "    <tr>\n",
       "      <th>2</th>\n",
       "      <td>2000</td>\n",
       "      <td>3</td>\n",
       "      <td>25313087</td>\n",
       "      <td>1776933</td>\n",
       "      <td>3796968</td>\n",
       "      <td>2801208</td>\n",
       "      <td>370491</td>\n",
       "      <td>34058686</td>\n",
       "    </tr>\n",
       "    <tr>\n",
       "      <th>3</th>\n",
       "      <td>2000</td>\n",
       "      <td>4</td>\n",
       "      <td>24751473</td>\n",
       "      <td>1761932</td>\n",
       "      <td>3113734</td>\n",
       "      <td>2545414</td>\n",
       "      <td>372305</td>\n",
       "      <td>32544858</td>\n",
       "    </tr>\n",
       "    <tr>\n",
       "      <th>4</th>\n",
       "      <td>2000</td>\n",
       "      <td>TOTAL</td>\n",
       "      <td>98899811</td>\n",
       "      <td>6805287</td>\n",
       "      <td>13019963</td>\n",
       "      <td>10019832</td>\n",
       "      <td>1503327</td>\n",
       "      <td>130248220</td>\n",
       "    </tr>\n",
       "    <tr>\n",
       "      <th>5</th>\n",
       "      <td>2001</td>\n",
       "      <td>1</td>\n",
       "      <td>23620312</td>\n",
       "      <td>1848448</td>\n",
       "      <td>2913460</td>\n",
       "      <td>2319491</td>\n",
       "      <td>409925</td>\n",
       "      <td>31111636</td>\n",
       "    </tr>\n",
       "    <tr>\n",
       "      <th>6</th>\n",
       "      <td>2001</td>\n",
       "      <td>2</td>\n",
       "      <td>23987256</td>\n",
       "      <td>1695829</td>\n",
       "      <td>3461580</td>\n",
       "      <td>2313437</td>\n",
       "      <td>343148</td>\n",
       "      <td>31801250</td>\n",
       "    </tr>\n",
       "    <tr>\n",
       "      <th>7</th>\n",
       "      <td>2001</td>\n",
       "      <td>3</td>\n",
       "      <td>20950846</td>\n",
       "      <td>1607118</td>\n",
       "      <td>3354092</td>\n",
       "      <td>2337637</td>\n",
       "      <td>175204</td>\n",
       "      <td>28424897</td>\n",
       "    </tr>\n",
       "    <tr>\n",
       "      <th>8</th>\n",
       "      <td>2001</td>\n",
       "      <td>4</td>\n",
       "      <td>17961577</td>\n",
       "      <td>1382343</td>\n",
       "      <td>2355216</td>\n",
       "      <td>1822516</td>\n",
       "      <td>367535</td>\n",
       "      <td>23889187</td>\n",
       "    </tr>\n",
       "    <tr>\n",
       "      <th>9</th>\n",
       "      <td>2001</td>\n",
       "      <td>TOTAL</td>\n",
       "      <td>86519991</td>\n",
       "      <td>6533737</td>\n",
       "      <td>12084349</td>\n",
       "      <td>8793081</td>\n",
       "      <td>1295812</td>\n",
       "      <td>115226970</td>\n",
       "    </tr>\n",
       "  </tbody>\n",
       "</table>\n",
       "</div>"
      ],
      "text/plain": [
       "   Year Quarter  DOMESTIC  LATIN AMERICA  ATLANTIC   PACIFIC  INTERNATIONAL  \\\n",
       "0  2000       1  23262183        1639679   2690229   2240370         370524   \n",
       "1  2000       2  25573067        1626743   3419032   2432840         390007   \n",
       "2  2000       3  25313087        1776933   3796968   2801208         370491   \n",
       "3  2000       4  24751473        1761932   3113734   2545414         372305   \n",
       "4  2000   TOTAL  98899811        6805287  13019963  10019832        1503327   \n",
       "5  2001       1  23620312        1848448   2913460   2319491         409925   \n",
       "6  2001       2  23987256        1695829   3461580   2313437         343148   \n",
       "7  2001       3  20950846        1607118   3354092   2337637         175204   \n",
       "8  2001       4  17961577        1382343   2355216   1822516         367535   \n",
       "9  2001   TOTAL  86519991        6533737  12084349   8793081        1295812   \n",
       "\n",
       "       TOTAL  \n",
       "0   30202987  \n",
       "1   33441689  \n",
       "2   34058686  \n",
       "3   32544858  \n",
       "4  130248220  \n",
       "5   31111636  \n",
       "6   31801250  \n",
       "7   28424897  \n",
       "8   23889187  \n",
       "9  115226970  "
      ]
     },
     "execution_count": 36,
     "metadata": {},
     "output_type": "execute_result"
    }
   ],
   "source": [
    "op_rev.head(10)"
   ]
  },
  {
   "cell_type": "code",
   "execution_count": 136,
   "metadata": {},
   "outputs": [],
   "source": [
    "rev_yearly = op_rev[op_rev['Quarter']=='TOTAL'].drop('Quarter', axis=1)"
   ]
  },
  {
   "cell_type": "code",
   "execution_count": 137,
   "metadata": {},
   "outputs": [
    {
     "data": {
      "text/html": [
       "<div>\n",
       "<style scoped>\n",
       "    .dataframe tbody tr th:only-of-type {\n",
       "        vertical-align: middle;\n",
       "    }\n",
       "\n",
       "    .dataframe tbody tr th {\n",
       "        vertical-align: top;\n",
       "    }\n",
       "\n",
       "    .dataframe thead th {\n",
       "        text-align: right;\n",
       "    }\n",
       "</style>\n",
       "<table border=\"1\" class=\"dataframe\">\n",
       "  <thead>\n",
       "    <tr style=\"text-align: right;\">\n",
       "      <th></th>\n",
       "      <th>Year</th>\n",
       "      <th>DOMESTIC</th>\n",
       "      <th>LATIN AMERICA</th>\n",
       "      <th>ATLANTIC</th>\n",
       "      <th>PACIFIC</th>\n",
       "      <th>INTERNATIONAL</th>\n",
       "      <th>TOTAL</th>\n",
       "    </tr>\n",
       "  </thead>\n",
       "  <tbody>\n",
       "    <tr>\n",
       "      <th>4</th>\n",
       "      <td>2000</td>\n",
       "      <td>98899811</td>\n",
       "      <td>6805287</td>\n",
       "      <td>13019963</td>\n",
       "      <td>10019832</td>\n",
       "      <td>1503327</td>\n",
       "      <td>130248220</td>\n",
       "    </tr>\n",
       "    <tr>\n",
       "      <th>9</th>\n",
       "      <td>2001</td>\n",
       "      <td>86519991</td>\n",
       "      <td>6533737</td>\n",
       "      <td>12084349</td>\n",
       "      <td>8793081</td>\n",
       "      <td>1295812</td>\n",
       "      <td>115226970</td>\n",
       "    </tr>\n",
       "    <tr>\n",
       "      <th>14</th>\n",
       "      <td>2002</td>\n",
       "      <td>79287478</td>\n",
       "      <td>6085118</td>\n",
       "      <td>11074476</td>\n",
       "      <td>9244957</td>\n",
       "      <td>1432599</td>\n",
       "      <td>107124627</td>\n",
       "    </tr>\n",
       "    <tr>\n",
       "      <th>19</th>\n",
       "      <td>2003</td>\n",
       "      <td>88870096</td>\n",
       "      <td>6401207</td>\n",
       "      <td>11727142</td>\n",
       "      <td>8976179</td>\n",
       "      <td>1793391</td>\n",
       "      <td>117768014</td>\n",
       "    </tr>\n",
       "    <tr>\n",
       "      <th>24</th>\n",
       "      <td>2004</td>\n",
       "      <td>100902510</td>\n",
       "      <td>7364215</td>\n",
       "      <td>13634690</td>\n",
       "      <td>10768617</td>\n",
       "      <td>1990252</td>\n",
       "      <td>134660284</td>\n",
       "    </tr>\n",
       "  </tbody>\n",
       "</table>\n",
       "</div>"
      ],
      "text/plain": [
       "    Year   DOMESTIC  LATIN AMERICA  ATLANTIC   PACIFIC  INTERNATIONAL  \\\n",
       "4   2000   98899811        6805287  13019963  10019832        1503327   \n",
       "9   2001   86519991        6533737  12084349   8793081        1295812   \n",
       "14  2002   79287478        6085118  11074476   9244957        1432599   \n",
       "19  2003   88870096        6401207  11727142   8976179        1793391   \n",
       "24  2004  100902510        7364215  13634690  10768617        1990252   \n",
       "\n",
       "        TOTAL  \n",
       "4   130248220  \n",
       "9   115226970  \n",
       "14  107124627  \n",
       "19  117768014  \n",
       "24  134660284  "
      ]
     },
     "execution_count": 137,
     "metadata": {},
     "output_type": "execute_result"
    }
   ],
   "source": [
    "rev_yearly.head()"
   ]
  },
  {
   "cell_type": "code",
   "execution_count": 138,
   "metadata": {},
   "outputs": [
    {
     "data": {
      "text/plain": [
       "<BarContainer object of 23 artists>"
      ]
     },
     "execution_count": 138,
     "metadata": {},
     "output_type": "execute_result"
    },
    {
     "data": {
      "image/png": "[encoded data removed]",
      "text/plain": [
       "<Figure size 432x288 with 1 Axes>"
      ]
     },
     "metadata": {
      "needs_background": "light"
     },
     "output_type": "display_data"
    }
   ],
   "source": [
    "fig = plt.figure()\n",
    "ax = fig.add_axes([0, 0, 1, 1])\n",
    "ax.bar(rev_yearly['Year'], rev_yearly['TOTAL'])"
   ]
  },
  {
   "cell_type": "code",
   "execution_count": null,
   "metadata": {},
   "outputs": [],
   "source": []
  },
  {
   "cell_type": "markdown",
   "metadata": {},
   "source": [
    "### Net Income ($000)\n",
    "##### All U.S. Carriers - All regions"
   ]
  },
  {
   "cell_type": "code",
   "execution_count": 37,
   "metadata": {},
   "outputs": [],
   "source": [
    "net_income = read_data('Operating_PL_6_15_2022 5 16 05 AM.xls')"
   ]
  },
  {
   "cell_type": "code",
   "execution_count": 38,
   "metadata": {},
   "outputs": [
    {
     "data": {
      "text/html": [
       "<div>\n",
       "<style scoped>\n",
       "    .dataframe tbody tr th:only-of-type {\n",
       "        vertical-align: middle;\n",
       "    }\n",
       "\n",
       "    .dataframe tbody tr th {\n",
       "        vertical-align: top;\n",
       "    }\n",
       "\n",
       "    .dataframe thead th {\n",
       "        text-align: right;\n",
       "    }\n",
       "</style>\n",
       "<table border=\"1\" class=\"dataframe\">\n",
       "  <thead>\n",
       "    <tr style=\"text-align: right;\">\n",
       "      <th></th>\n",
       "      <th>Year</th>\n",
       "      <th>Quarter</th>\n",
       "      <th>DOMESTIC</th>\n",
       "      <th>LATIN AMERICA</th>\n",
       "      <th>ATLANTIC</th>\n",
       "      <th>PACIFIC</th>\n",
       "      <th>INTERNATIONAL</th>\n",
       "      <th>TOTAL</th>\n",
       "    </tr>\n",
       "  </thead>\n",
       "  <tbody>\n",
       "    <tr>\n",
       "      <th>0</th>\n",
       "      <td>2000</td>\n",
       "      <td>1</td>\n",
       "      <td>139162</td>\n",
       "      <td>58927</td>\n",
       "      <td>-68918</td>\n",
       "      <td>-106308</td>\n",
       "      <td>839</td>\n",
       "      <td>23702</td>\n",
       "    </tr>\n",
       "    <tr>\n",
       "      <th>1</th>\n",
       "      <td>2000</td>\n",
       "      <td>2</td>\n",
       "      <td>1570500</td>\n",
       "      <td>-86040</td>\n",
       "      <td>250371</td>\n",
       "      <td>154724</td>\n",
       "      <td>9541</td>\n",
       "      <td>1899096</td>\n",
       "    </tr>\n",
       "    <tr>\n",
       "      <th>2</th>\n",
       "      <td>2000</td>\n",
       "      <td>3</td>\n",
       "      <td>548903</td>\n",
       "      <td>33056</td>\n",
       "      <td>226224</td>\n",
       "      <td>83675</td>\n",
       "      <td>45470</td>\n",
       "      <td>937327</td>\n",
       "    </tr>\n",
       "    <tr>\n",
       "      <th>3</th>\n",
       "      <td>2000</td>\n",
       "      <td>4</td>\n",
       "      <td>-267068</td>\n",
       "      <td>6639</td>\n",
       "      <td>-95916</td>\n",
       "      <td>5533</td>\n",
       "      <td>23388</td>\n",
       "      <td>-327425</td>\n",
       "    </tr>\n",
       "    <tr>\n",
       "      <th>4</th>\n",
       "      <td>2000</td>\n",
       "      <td>TOTAL</td>\n",
       "      <td>1991496</td>\n",
       "      <td>12581</td>\n",
       "      <td>311761</td>\n",
       "      <td>137623</td>\n",
       "      <td>79238</td>\n",
       "      <td>2532700</td>\n",
       "    </tr>\n",
       "    <tr>\n",
       "      <th>...</th>\n",
       "      <td>...</td>\n",
       "      <td>...</td>\n",
       "      <td>...</td>\n",
       "      <td>...</td>\n",
       "      <td>...</td>\n",
       "      <td>...</td>\n",
       "      <td>...</td>\n",
       "      <td>...</td>\n",
       "    </tr>\n",
       "    <tr>\n",
       "      <th>107</th>\n",
       "      <td>2021</td>\n",
       "      <td>3</td>\n",
       "      <td>3638448</td>\n",
       "      <td>160776</td>\n",
       "      <td>-424432</td>\n",
       "      <td>99150</td>\n",
       "      <td>138011</td>\n",
       "      <td>3611953</td>\n",
       "    </tr>\n",
       "    <tr>\n",
       "      <th>108</th>\n",
       "      <td>2021</td>\n",
       "      <td>4</td>\n",
       "      <td>-472342</td>\n",
       "      <td>-347174</td>\n",
       "      <td>-654875</td>\n",
       "      <td>132601</td>\n",
       "      <td>234563</td>\n",
       "      <td>-1107227</td>\n",
       "    </tr>\n",
       "    <tr>\n",
       "      <th>109</th>\n",
       "      <td>2021</td>\n",
       "      <td>TOTAL</td>\n",
       "      <td>4621535</td>\n",
       "      <td>-1879774</td>\n",
       "      <td>-2197715</td>\n",
       "      <td>-184949</td>\n",
       "      <td>781882</td>\n",
       "      <td>1140979</td>\n",
       "    </tr>\n",
       "    <tr>\n",
       "      <th>110</th>\n",
       "      <td>2022</td>\n",
       "      <td>1</td>\n",
       "      <td>-2331375</td>\n",
       "      <td>-774464</td>\n",
       "      <td>-1252818</td>\n",
       "      <td>42428</td>\n",
       "      <td>132284</td>\n",
       "      <td>-4183945</td>\n",
       "    </tr>\n",
       "    <tr>\n",
       "      <th>111</th>\n",
       "      <td>2022</td>\n",
       "      <td>TOTAL</td>\n",
       "      <td>-2331375</td>\n",
       "      <td>-774464</td>\n",
       "      <td>-1252818</td>\n",
       "      <td>42428</td>\n",
       "      <td>132284</td>\n",
       "      <td>-4183945</td>\n",
       "    </tr>\n",
       "  </tbody>\n",
       "</table>\n",
       "<p>112 rows × 8 columns</p>\n",
       "</div>"
      ],
      "text/plain": [
       "     Year Quarter  DOMESTIC  LATIN AMERICA  ATLANTIC  PACIFIC  INTERNATIONAL  \\\n",
       "0    2000       1    139162          58927    -68918  -106308            839   \n",
       "1    2000       2   1570500         -86040    250371   154724           9541   \n",
       "2    2000       3    548903          33056    226224    83675          45470   \n",
       "3    2000       4   -267068           6639    -95916     5533          23388   \n",
       "4    2000   TOTAL   1991496          12581    311761   137623          79238   \n",
       "..    ...     ...       ...            ...       ...      ...            ...   \n",
       "107  2021       3   3638448         160776   -424432    99150         138011   \n",
       "108  2021       4   -472342        -347174   -654875   132601         234563   \n",
       "109  2021   TOTAL   4621535       -1879774  -2197715  -184949         781882   \n",
       "110  2022       1  -2331375        -774464  -1252818    42428         132284   \n",
       "111  2022   TOTAL  -2331375        -774464  -1252818    42428         132284   \n",
       "\n",
       "       TOTAL  \n",
       "0      23702  \n",
       "1    1899096  \n",
       "2     937327  \n",
       "3    -327425  \n",
       "4    2532700  \n",
       "..       ...  \n",
       "107  3611953  \n",
       "108 -1107227  \n",
       "109  1140979  \n",
       "110 -4183945  \n",
       "111 -4183945  \n",
       "\n",
       "[112 rows x 8 columns]"
      ]
     },
     "execution_count": 38,
     "metadata": {},
     "output_type": "execute_result"
    }
   ],
   "source": [
    "net_income"
   ]
  },
  {
   "cell_type": "code",
   "execution_count": 139,
   "metadata": {},
   "outputs": [],
   "source": [
    "net_yearly = net_income[net_income['Quarter']=='TOTAL'].drop('Quarter', axis=1)"
   ]
  },
  {
   "cell_type": "code",
   "execution_count": 140,
   "metadata": {},
   "outputs": [
    {
     "data": {
      "text/plain": [
       "<BarContainer object of 23 artists>"
      ]
     },
     "execution_count": 140,
     "metadata": {},
     "output_type": "execute_result"
    },
    {
     "data": {
      "image/png": "[encoded data removed]",
      "text/plain": [
       "<Figure size 432x288 with 1 Axes>"
      ]
     },
     "metadata": {
      "needs_background": "light"
     },
     "output_type": "display_data"
    }
   ],
   "source": [
    "fig = plt.figure()\n",
    "ax = fig.add_axes([0, 0, 1, 1])\n",
    "ax.bar(net_yearly['Year'], net_yearly['TOTAL'])"
   ]
  },
  {
   "cell_type": "code",
   "execution_count": null,
   "metadata": {},
   "outputs": [],
   "source": []
  }
 ],
 "metadata": {
  "kernelspec": {
   "display_name": "Python 3",
   "language": "python",
   "name": "python3"
  },
  "language_info": {
   "codemirror_mode": {
    "name": "ipython",
    "version": 3
   },
   "file_extension": ".py",
   "mimetype": "text/x-python",
   "name": "python",
   "nbconvert_exporter": "python",
   "pygments_lexer": "ipython3",
   "version": "3.8.3"
  }
 },
 "nbformat": 4,
 "nbformat_minor": 4
}
